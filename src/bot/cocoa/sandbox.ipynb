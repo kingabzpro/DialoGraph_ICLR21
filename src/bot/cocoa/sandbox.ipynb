{
 "cells": [
  {
   "cell_type": "code",
   "execution_count": null,
   "metadata": {},
   "outputs": [],
   "source": [
    "import spacy\n",
    "nlp_en = spacy.load('en')\n",
    "nlp_sp = spacy.load('es')\n",
    "sp_txt = \"no tengo amigos a quienes les gusten las artes digitales\"\n",
    "sp_doc = nlp_sp(unicode(sp_txt, \"utf-8\"))\n",
    "\n"
   ]
  },
  {
   "cell_type": "code",
   "execution_count": 1,
   "metadata": {},
   "outputs": [
    {
     "name": "stdout",
     "output_type": "stream",
     "text": [
      "la mañana\n"
     ]
    }
   ],
   "source": [
    "def get_biling_dict():\n",
    "    # assume each line in file has form: ENGLISH\tSPANISH\n",
    "    content = {}\n",
    "    def add_to_biling_dict(fname):\n",
    "        with open(fname, 'r') as fin:\n",
    "            for line in fin.readlines():\n",
    "                eng, spa = line.replace('\\n','').split('\t')\n",
    "                content[eng] = spa\n",
    "\n",
    "    add_to_biling_dict('data/names.txt')\n",
    "    add_to_biling_dict('data/hobbies.txt')\n",
    "    add_to_biling_dict('data/loc.txt')\n",
    "    add_to_biling_dict('data/time.txt')\n",
    "\n",
    "    return content\n",
    "\n",
    "bldict = get_biling_dict()\n",
    "print bldict['morning']\n",
    "\n",
    "with open "
   ]
  },
  {
   "cell_type": "code",
   "execution_count": 2,
   "metadata": {},
   "outputs": [
    {
     "name": "stdout",
     "output_type": "stream",
     "text": [
      "NEW STR Mañana\n"
     ]
    }
   ],
   "source": [
    "from google.cloud import translate\n",
    "\n",
    "orig_eng = 'morning'\n",
    "# Instantiates a client\n",
    "translate_client = translate.Client()\n",
    "translation = translate_client.translate(orig_eng, target_language='es')\n",
    "new_str = translation['translatedText']\n",
    "\n",
    "print 'NEW STR', new_str"
   ]
  },
  {
   "cell_type": "code",
   "execution_count": 7,
   "metadata": {},
   "outputs": [
    {
     "name": "stdout",
     "output_type": "stream",
     "text": [
      "MAÑANA\n"
     ]
    }
   ],
   "source": [
    "# with open('test.out', 'w') as w:\n",
    "#     w.write(new_str.encode('utf-8'))\n",
    "\n",
    "print new_str.lower()"
   ]
  },
  {
   "cell_type": "code",
   "execution_count": null,
   "metadata": {},
   "outputs": [],
   "source": []
  }
 ],
 "metadata": {
  "kernelspec": {
   "display_name": "Python 2",
   "language": "python",
   "name": "python2"
  },
  "language_info": {
   "codemirror_mode": {
    "name": "ipython",
    "version": 2
   },
   "file_extension": ".py",
   "mimetype": "text/x-python",
   "name": "python",
   "nbconvert_exporter": "python",
   "pygments_lexer": "ipython2",
   "version": "2.7.10"
  }
 },
 "nbformat": 4,
 "nbformat_minor": 2
}
