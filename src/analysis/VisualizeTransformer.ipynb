{
 "cells": [
  {
   "cell_type": "code",
   "execution_count": 2,
   "metadata": {},
   "outputs": [],
   "source": [
    "# This file will be used to visualize transformer attention dumps\n",
    "import pickle, pdb\n",
    "import sys\n",
    "sys.path.append('..')\n",
    "import utils\n",
    "from collections import defaultdict as ddict\n",
    "import numpy as np\n",
    "from helper import *"
   ]
  },
  {
   "cell_type": "code",
   "execution_count": 95,
   "metadata": {},
   "outputs": [],
   "source": [
    "data = load_pickle('predictions/transformer_vis_transformer_20_05_2020_00:56:09_predictions.pkl')"
   ]
  },
  {
   "cell_type": "code",
   "execution_count": 4,
   "metadata": {},
   "outputs": [
    {
     "data": {
      "text/plain": [
       "dict_keys(['loss', 'metrics', 'all_preds', 'all_labels', 'all_masks', 'all_attention_weights'])"
      ]
     },
     "execution_count": 4,
     "metadata": {},
     "output_type": "execute_result"
    }
   ],
   "source": [
    "data.keys()"
   ]
  },
  {
   "cell_type": "code",
   "execution_count": 5,
   "metadata": {},
   "outputs": [
    {
     "name": "stdout",
     "output_type": "stream",
     "text": [
      "74\n"
     ]
    }
   ],
   "source": [
    "num_batches = len(data['all_labels'])\n",
    "print (num_batches)"
   ]
  },
  {
   "cell_type": "code",
   "execution_count": 96,
   "metadata": {},
   "outputs": [
    {
     "name": "stdout",
     "output_type": "stream",
     "text": [
      "506\n"
     ]
    }
   ],
   "source": [
    "all_conv = []\n",
    "for batch in range(num_batches):\n",
    "    num_conv = data['all_preds'][batch].shape[0]\n",
    "    for c in range(num_conv):\n",
    "        all_conv.append({\n",
    "            'preds': data['all_preds'][batch][c],\n",
    "            'labels': data['all_labels'][batch][c],\n",
    "            'mask': data['all_masks'][batch][c],\n",
    "            'attn': data['all_attention_weights'][batch][:, c, :, :, :] \n",
    "        })\n",
    "print (len(all_conv))"
   ]
  },
  {
   "cell_type": "code",
   "execution_count": 24,
   "metadata": {},
   "outputs": [],
   "source": [
    "def get_conv_score(conv):\n",
    "    '''\n",
    "    Takes a conv and returns a score for it\n",
    "    '''\n",
    "    num_utt = int(np.sum(conv['mask']))\n",
    "    preds = conv['preds'][:num_utt]\n",
    "    labels = conv['labels'][:num_utt]\n",
    "    from sklearn.metrics import f1_score\n",
    "    macro = f1_score(preds, labels, average='macro')\n",
    "    return macro"
   ]
  },
  {
   "cell_type": "code",
   "execution_count": 97,
   "metadata": {},
   "outputs": [
    {
     "name": "stderr",
     "output_type": "stream",
     "text": [
      "/usr1/home/rjoshi2/envs/myenv/lib/python3.7/site-packages/sklearn/metrics/classification.py:1143: UndefinedMetricWarning: F-score is ill-defined and being set to 0.0 in labels with no predicted samples.\n",
      "  'precision', 'predicted', average, warn_for)\n",
      "/usr1/home/rjoshi2/envs/myenv/lib/python3.7/site-packages/sklearn/metrics/classification.py:1145: UndefinedMetricWarning: F-score is ill-defined and being set to 0.0 in labels with no true samples.\n",
      "  'recall', 'true', average, warn_for)\n"
     ]
    }
   ],
   "source": [
    "for c in range(len(all_conv)):\n",
    "    score = get_conv_score(all_conv[c])\n",
    "    all_conv[c]['score'] = score"
   ]
  },
  {
   "cell_type": "code",
   "execution_count": 98,
   "metadata": {},
   "outputs": [],
   "source": [
    "sorted_conv = sorted(all_conv, key = lambda x: x['score'], reverse = True)"
   ]
  },
  {
   "cell_type": "code",
   "execution_count": 99,
   "metadata": {},
   "outputs": [
    {
     "data": {
      "text/plain": [
       "{'preds': array([[1., 1., 1., 1., 0., 0., 0., 1., 0., 0., 1., 1., 1., 1., 0., 0.,\n",
       "         1., 0., 1., 0., 1., 0.],\n",
       "        [0., 0., 0., 0., 0., 1., 0., 0., 1., 0., 0., 1., 0., 1., 0., 1.,\n",
       "         0., 1., 0., 1., 0., 1.],\n",
       "        [1., 1., 1., 0., 1., 1., 1., 1., 1., 0., 1., 1., 1., 1., 1., 1.,\n",
       "         1., 0., 0., 1., 1., 1.],\n",
       "        [0., 0., 0., 0., 0., 1., 0., 0., 1., 0., 0., 1., 0., 1., 0., 1.,\n",
       "         0., 0., 0., 1., 0., 1.],\n",
       "        [1., 1., 1., 0., 1., 1., 1., 1., 1., 1., 1., 0., 1., 0., 1., 1.,\n",
       "         1., 1., 0., 1., 1., 1.],\n",
       "        [0., 0., 0., 0., 0., 1., 0., 0., 0., 0., 0., 0., 0., 1., 1., 1.,\n",
       "         0., 1., 1., 1., 0., 1.],\n",
       "        [1., 1., 1., 0., 1., 1., 1., 1., 1., 0., 1., 0., 1., 1., 1., 0.,\n",
       "         1., 0., 1., 0., 1., 0.],\n",
       "        [0., 0., 0., 0., 0., 1., 0., 0., 1., 0., 0., 0., 0., 1., 1., 0.,\n",
       "         0., 0., 1., 0., 0., 0.],\n",
       "        [1., 0., 1., 0., 0., 1., 1., 0., 1., 0., 1., 0., 0., 1., 1., 0.,\n",
       "         1., 0., 1., 0., 0., 0.]], dtype=float32),\n",
       " 'labels': array([[1., 1., 0., 0., 0., 0., 0., 0., 0., 0., 0., 0., 0., 1., 0., 0.,\n",
       "         1., 0., 0., 1., 1., 0.],\n",
       "        [0., 0., 0., 0., 1., 0., 0., 0., 0., 0., 0., 1., 0., 1., 0., 0.,\n",
       "         0., 0., 0., 1., 0., 1.],\n",
       "        [1., 1., 0., 0., 1., 0., 0., 1., 0., 0., 0., 1., 0., 1., 0., 0.,\n",
       "         1., 0., 0., 1., 0., 0.],\n",
       "        [0., 0., 0., 0., 0., 0., 0., 0., 1., 0., 0., 0., 0., 1., 1., 1.,\n",
       "         0., 0., 0., 1., 0., 1.],\n",
       "        [1., 1., 0., 0., 1., 1., 0., 1., 0., 0., 0., 0., 0., 1., 0., 1.,\n",
       "         1., 0., 0., 1., 0., 1.],\n",
       "        [0., 0., 0., 0., 0., 0., 0., 0., 1., 0., 0., 1., 0., 1., 0., 0.,\n",
       "         0., 0., 1., 1., 0., 1.],\n",
       "        [1., 1., 0., 0., 0., 1., 1., 1., 0., 0., 1., 1., 1., 1., 0., 0.,\n",
       "         1., 0., 0., 1., 0., 0.],\n",
       "        [0., 0., 0., 0., 0., 0., 0., 0., 0., 0., 0., 0., 0., 1., 0., 0.,\n",
       "         0., 0., 1., 0., 0., 0.],\n",
       "        [0., 0., 0., 0., 0., 0., 0., 0., 0., 0., 0., 0., 0., 0., 0., 0.,\n",
       "         0., 0., 0., 0., 0., 0.]], dtype=float32),\n",
       " 'mask': array([1., 1., 1., 1., 1., 1., 1., 1., 0.], dtype=float32),\n",
       " 'attn': array([[[[1.        , 0.        , 0.        , ..., 0.        ,\n",
       "           0.        , 0.        ],\n",
       "          [0.50928843, 0.49071154, 0.        , ..., 0.        ,\n",
       "           0.        , 0.        ],\n",
       "          [0.32370698, 0.30569544, 0.37059754, ..., 0.        ,\n",
       "           0.        , 0.        ],\n",
       "          ...,\n",
       "          [0.12306948, 0.12133937, 0.12567224, ..., 0.12230158,\n",
       "           0.        , 0.        ],\n",
       "          [0.11030912, 0.10944389, 0.11147685, ..., 0.1099647 ,\n",
       "           0.11075053, 0.        ],\n",
       "          [0.10829387, 0.10656261, 0.11293235, ..., 0.10829286,\n",
       "           0.11156702, 0.        ]],\n",
       " \n",
       "         [[1.        , 0.        , 0.        , ..., 0.        ,\n",
       "           0.        , 0.        ],\n",
       "          [0.47877067, 0.5212294 , 0.        , ..., 0.        ,\n",
       "           0.        , 0.        ],\n",
       "          [0.31242758, 0.3553009 , 0.33227155, ..., 0.        ,\n",
       "           0.        , 0.        ],\n",
       "          ...,\n",
       "          [0.09666491, 0.10933062, 0.10593902, ..., 0.1485908 ,\n",
       "           0.        , 0.        ],\n",
       "          [0.08110346, 0.09027687, 0.08785162, ..., 0.13488865,\n",
       "           0.11547096, 0.        ],\n",
       "          [0.08209351, 0.090648  , 0.08804518, ..., 0.13401261,\n",
       "           0.1149106 , 0.        ]]],\n",
       " \n",
       " \n",
       "        [[[1.        , 0.        , 0.        , ..., 0.        ,\n",
       "           0.        , 0.        ],\n",
       "          [0.5015436 , 0.49845642, 0.        , ..., 0.        ,\n",
       "           0.        , 0.        ],\n",
       "          [0.33272368, 0.3287239 , 0.3385524 , ..., 0.        ,\n",
       "           0.        , 0.        ],\n",
       "          ...,\n",
       "          [0.12475165, 0.12379066, 0.12610576, ..., 0.12435395,\n",
       "           0.        , 0.        ],\n",
       "          [0.11086292, 0.11032985, 0.11172736, ..., 0.11064295,\n",
       "           0.11155233, 0.        ],\n",
       "          [0.11088063, 0.1103428 , 0.11171906, ..., 0.11065146,\n",
       "           0.11154582, 0.        ]],\n",
       " \n",
       "         [[1.        , 0.        , 0.        , ..., 0.        ,\n",
       "           0.        , 0.        ],\n",
       "          [0.5055711 , 0.49442884, 0.        , ..., 0.        ,\n",
       "           0.        , 0.        ],\n",
       "          [0.3333281 , 0.33320934, 0.33346257, ..., 0.        ,\n",
       "           0.        , 0.        ],\n",
       "          ...,\n",
       "          [0.12465014, 0.12439334, 0.125081  , ..., 0.12467124,\n",
       "           0.        , 0.        ],\n",
       "          [0.1104659 , 0.11189091, 0.11003388, ..., 0.11161431,\n",
       "           0.11048698, 0.        ],\n",
       "          [0.11062267, 0.11178017, 0.11021969, ..., 0.11154737,\n",
       "           0.11058712, 0.        ]]],\n",
       " \n",
       " \n",
       "        [[[1.        , 0.        , 0.        , ..., 0.        ,\n",
       "           0.        , 0.        ],\n",
       "          [0.49999967, 0.50000036, 0.        , ..., 0.        ,\n",
       "           0.        , 0.        ],\n",
       "          [0.33333343, 0.33333293, 0.33333364, ..., 0.        ,\n",
       "           0.        , 0.        ],\n",
       "          ...,\n",
       "          [0.12500052, 0.12499889, 0.12500113, ..., 0.12499926,\n",
       "           0.        , 0.        ],\n",
       "          [0.11111132, 0.11111054, 0.11111162, ..., 0.11111072,\n",
       "           0.11111147, 0.        ],\n",
       "          [0.11111125, 0.11111071, 0.11111145, ..., 0.11111084,\n",
       "           0.11111135, 0.        ]],\n",
       " \n",
       "         [[1.        , 0.        , 0.        , ..., 0.        ,\n",
       "           0.        , 0.        ],\n",
       "          [0.49999088, 0.5000091 , 0.        , ..., 0.        ,\n",
       "           0.        , 0.        ],\n",
       "          [0.33332735, 0.33356956, 0.3331031 , ..., 0.        ,\n",
       "           0.        , 0.        ],\n",
       "          ...,\n",
       "          [0.12495942, 0.12498868, 0.1250106 , ..., 0.12499832,\n",
       "           0.        , 0.        ],\n",
       "          [0.11110042, 0.11117657, 0.11105231, ..., 0.11116127,\n",
       "           0.11106562, 0.        ],\n",
       "          [0.11111034, 0.11116235, 0.11106621, ..., 0.11114891,\n",
       "           0.11107286, 0.        ]]],\n",
       " \n",
       " \n",
       "        [[[1.        , 0.        , 0.        , ..., 0.        ,\n",
       "           0.        , 0.        ],\n",
       "          [0.49836347, 0.50163656, 0.        , ..., 0.        ,\n",
       "           0.        , 0.        ],\n",
       "          [0.3335186 , 0.33223307, 0.3342483 , ..., 0.        ,\n",
       "           0.        , 0.        ],\n",
       "          ...,\n",
       "          [0.12491105, 0.1254788 , 0.124549  , ..., 0.12525766,\n",
       "           0.        , 0.        ],\n",
       "          [0.11115459, 0.11089882, 0.11128487, ..., 0.11098019,\n",
       "           0.11123512, 0.        ],\n",
       "          [0.11115015, 0.11089417, 0.11128788, ..., 0.11097918,\n",
       "           0.11123805, 0.        ]],\n",
       " \n",
       "         [[1.        , 0.        , 0.        , ..., 0.        ,\n",
       "           0.        , 0.        ],\n",
       "          [0.5000346 , 0.49996543, 0.        , ..., 0.        ,\n",
       "           0.        , 0.        ],\n",
       "          [0.33332855, 0.33335176, 0.33331966, ..., 0.        ,\n",
       "           0.        , 0.        ],\n",
       "          ...,\n",
       "          [0.12500407, 0.12499119, 0.12500897, ..., 0.12499411,\n",
       "           0.        , 0.        ],\n",
       "          [0.11110999, 0.11111438, 0.11110831, ..., 0.11111338,\n",
       "           0.11110895, 0.        ],\n",
       "          [0.11111   , 0.11111441, 0.11110833, ..., 0.11111341,\n",
       "           0.11110897, 0.        ]]],\n",
       " \n",
       " \n",
       "        [[[1.        , 0.        , 0.        , ..., 0.        ,\n",
       "           0.        , 0.        ],\n",
       "          [0.5000004 , 0.49999955, 0.        , ..., 0.        ,\n",
       "           0.        , 0.        ],\n",
       "          [0.33333313, 0.33333334, 0.3333335 , ..., 0.        ,\n",
       "           0.        , 0.        ],\n",
       "          ...,\n",
       "          [0.12500022, 0.12500004, 0.12499993, ..., 0.12500004,\n",
       "           0.        , 0.        ],\n",
       "          [0.1111111 , 0.1111111 , 0.11111111, ..., 0.1111111 ,\n",
       "           0.11111111, 0.        ],\n",
       "          [0.11111108, 0.1111111 , 0.11111113, ..., 0.1111111 ,\n",
       "           0.11111116, 0.        ]],\n",
       " \n",
       "         [[1.        , 0.        , 0.        , ..., 0.        ,\n",
       "           0.        , 0.        ],\n",
       "          [0.50014883, 0.49985123, 0.        , ..., 0.        ,\n",
       "           0.        , 0.        ],\n",
       "          [0.33332342, 0.33338487, 0.33329174, ..., 0.        ,\n",
       "           0.        , 0.        ],\n",
       "          ...,\n",
       "          [0.1250127 , 0.12495974, 0.12503995, ..., 0.12497409,\n",
       "           0.        , 0.        ],\n",
       "          [0.11110714, 0.11113077, 0.11109498, ..., 0.11112436,\n",
       "           0.11109765, 0.        ],\n",
       "          [0.11110562, 0.11113821, 0.11108884, ..., 0.11112937,\n",
       "           0.11109254, 0.        ]]],\n",
       " \n",
       " \n",
       "        [[[1.        , 0.        , 0.        , ..., 0.        ,\n",
       "           0.        , 0.        ],\n",
       "          [0.5       , 0.5       , 0.        , ..., 0.        ,\n",
       "           0.        , 0.        ],\n",
       "          [0.33333334, 0.33333334, 0.33333334, ..., 0.        ,\n",
       "           0.        , 0.        ],\n",
       "          ...,\n",
       "          [0.125     , 0.125     , 0.125     , ..., 0.125     ,\n",
       "           0.        , 0.        ],\n",
       "          [0.11111111, 0.11111111, 0.11111111, ..., 0.11111111,\n",
       "           0.11111111, 0.        ],\n",
       "          [0.11111111, 0.11111111, 0.11111111, ..., 0.11111111,\n",
       "           0.11111111, 0.        ]],\n",
       " \n",
       "         [[1.        , 0.        , 0.        , ..., 0.        ,\n",
       "           0.        , 0.        ],\n",
       "          [0.5       , 0.5       , 0.        , ..., 0.        ,\n",
       "           0.        , 0.        ],\n",
       "          [0.33333334, 0.33333334, 0.33333334, ..., 0.        ,\n",
       "           0.        , 0.        ],\n",
       "          ...,\n",
       "          [0.125     , 0.125     , 0.125     , ..., 0.125     ,\n",
       "           0.        , 0.        ],\n",
       "          [0.11111111, 0.11111111, 0.11111111, ..., 0.11111111,\n",
       "           0.11111111, 0.        ],\n",
       "          [0.11111111, 0.11111111, 0.11111111, ..., 0.11111111,\n",
       "           0.11111111, 0.        ]]]], dtype=float32),\n",
       " 'score': 0.5141774891774893}"
      ]
     },
     "execution_count": 99,
     "metadata": {},
     "output_type": "execute_result"
    }
   ],
   "source": [
    "sorted_conv[0]"
   ]
  },
  {
   "cell_type": "markdown",
   "metadata": {},
   "source": [
    "# Visualize scores"
   ]
  },
  {
   "cell_type": "code",
   "execution_count": 100,
   "metadata": {},
   "outputs": [],
   "source": [
    "import matplotlib.pyplot as plt\n",
    "%matplotlib inline"
   ]
  },
  {
   "cell_type": "code",
   "execution_count": 101,
   "metadata": {},
   "outputs": [
    {
     "data": {
      "text/plain": [
       "[<matplotlib.lines.Line2D at 0x7f6da63d3b90>]"
      ]
     },
     "execution_count": 101,
     "metadata": {},
     "output_type": "execute_result"
    },
    {
     "data": {
      "image/png": "[encoded data removed]",
      "text/plain": [
       "<Figure size 432x288 with 1 Axes>"
      ]
     },
     "metadata": {
      "needs_background": "light"
     },
     "output_type": "display_data"
    }
   ],
   "source": [
    "x = np.arange(len(sorted_conv))\n",
    "y = [c['score'] for c in sorted_conv]\n",
    "plt.plot(x, y)"
   ]
  },
  {
   "cell_type": "code",
   "execution_count": 102,
   "metadata": {},
   "outputs": [
    {
     "data": {
      "text/plain": [
       "24"
      ]
     },
     "execution_count": 102,
     "metadata": {},
     "output_type": "execute_result"
    }
   ],
   "source": [
    "# Number of conv with score > 0.45\n",
    "np.sum([1 for c in sorted_conv if c['score'] > 0.45])"
   ]
  },
  {
   "cell_type": "markdown",
   "metadata": {},
   "source": [
    "# Process data\n",
    "\n",
    "make predictions as strategies, remove mask, make things shorter"
   ]
  },
  {
   "cell_type": "code",
   "execution_count": 45,
   "metadata": {},
   "outputs": [],
   "source": [
    "temp = load_pickle('../../../data/negotiation_data/data/strategy_vector_data_w_clustered_strategies.pkl')\n",
    "category2id = temp['strategies2colid']\n",
    "del temp"
   ]
  },
  {
   "cell_type": "code",
   "execution_count": 46,
   "metadata": {},
   "outputs": [
    {
     "name": "stdout",
     "output_type": "stream",
     "text": [
      "{0: 'agent_id', 1: 'personal_concern', 2: 'friend', 3: 'politeness_greet', 4: 'neg_sentiment', 5: 'assertive_count', 6: 'trade_in', 7: 'number_of_diff_dic_neg', 8: 'factive_count', 9: 'third_person_plural', 10: 'liwc_informal', 11: 'third_person_singular', 12: 'liwc_certainty', 13: 'pos_sentiment', 14: 'first_person_plural_count', 15: 'propose', 16: 'number_of_diff_dic_pos', 17: 'politeness_please', 18: 'politeness_gratitude', 19: 'first_person_singular_count', 20: 'family', 21: 'hedge_count'}\n"
     ]
    }
   ],
   "source": [
    "#print (category2id)\n",
    "id2category = {v:k for k,v in category2id.items()}\n",
    "print (id2category)"
   ]
  },
  {
   "cell_type": "code",
   "execution_count": 61,
   "metadata": {},
   "outputs": [],
   "source": [
    "def get_strategies_from_vec(strategies_vec):\n",
    "    strats = []\n",
    "    for i in range(len(strategies_vec)):\n",
    "        idxes = np.where(strategies_vec[i])[0]\n",
    "        strats.append([id2category[s] for s in idxes if s != 0])\n",
    "    return strats"
   ]
  },
  {
   "cell_type": "code",
   "execution_count": 115,
   "metadata": {},
   "outputs": [],
   "source": [
    "final_conv = []\n",
    "for c in range(len(sorted_conv)):\n",
    "    num_utt = int(np.sum(sorted_conv[c]['mask']))\n",
    "    preds = sorted_conv[c]['preds'][:num_utt]\n",
    "    labels = sorted_conv[c]['labels'][:num_utt]\n",
    "    pred_strat = get_strategies_from_vec(preds)\n",
    "    true_strat = get_strategies_from_vec(labels)\n",
    "    attn = sorted_conv[c]['attn'][:, :, :num_utt, :num_utt]\n",
    "    final_conv.append({\n",
    "        'preds': pred_strat,\n",
    "        'labels': true_strat,\n",
    "        'attn': attn,\n",
    "        'score': sorted_conv[c]['score']\n",
    "    })"
   ]
  },
  {
   "cell_type": "markdown",
   "metadata": {},
   "source": [
    "# Visualize Attention Maps of the 6 decoders 2 heads each"
   ]
  },
  {
   "cell_type": "code",
   "execution_count": 116,
   "metadata": {},
   "outputs": [
    {
     "data": {
      "text/plain": [
       "{'preds': [['personal_concern',\n",
       "   'friend',\n",
       "   'politeness_greet',\n",
       "   'number_of_diff_dic_neg',\n",
       "   'liwc_informal',\n",
       "   'third_person_singular',\n",
       "   'liwc_certainty',\n",
       "   'pos_sentiment',\n",
       "   'number_of_diff_dic_pos',\n",
       "   'politeness_gratitude',\n",
       "   'family'],\n",
       "  ['assertive_count',\n",
       "   'factive_count',\n",
       "   'third_person_singular',\n",
       "   'pos_sentiment',\n",
       "   'propose',\n",
       "   'politeness_please',\n",
       "   'first_person_singular_count',\n",
       "   'hedge_count'],\n",
       "  ['personal_concern',\n",
       "   'friend',\n",
       "   'neg_sentiment',\n",
       "   'assertive_count',\n",
       "   'trade_in',\n",
       "   'number_of_diff_dic_neg',\n",
       "   'factive_count',\n",
       "   'liwc_informal',\n",
       "   'third_person_singular',\n",
       "   'liwc_certainty',\n",
       "   'pos_sentiment',\n",
       "   'first_person_plural_count',\n",
       "   'propose',\n",
       "   'number_of_diff_dic_pos',\n",
       "   'first_person_singular_count',\n",
       "   'family',\n",
       "   'hedge_count'],\n",
       "  ['assertive_count',\n",
       "   'factive_count',\n",
       "   'third_person_singular',\n",
       "   'pos_sentiment',\n",
       "   'propose',\n",
       "   'first_person_singular_count',\n",
       "   'hedge_count'],\n",
       "  ['personal_concern',\n",
       "   'friend',\n",
       "   'neg_sentiment',\n",
       "   'assertive_count',\n",
       "   'trade_in',\n",
       "   'number_of_diff_dic_neg',\n",
       "   'factive_count',\n",
       "   'third_person_plural',\n",
       "   'liwc_informal',\n",
       "   'liwc_certainty',\n",
       "   'first_person_plural_count',\n",
       "   'propose',\n",
       "   'number_of_diff_dic_pos',\n",
       "   'politeness_please',\n",
       "   'first_person_singular_count',\n",
       "   'family',\n",
       "   'hedge_count'],\n",
       "  ['assertive_count',\n",
       "   'pos_sentiment',\n",
       "   'first_person_plural_count',\n",
       "   'propose',\n",
       "   'politeness_please',\n",
       "   'politeness_gratitude',\n",
       "   'first_person_singular_count',\n",
       "   'hedge_count'],\n",
       "  ['personal_concern',\n",
       "   'friend',\n",
       "   'neg_sentiment',\n",
       "   'assertive_count',\n",
       "   'trade_in',\n",
       "   'number_of_diff_dic_neg',\n",
       "   'factive_count',\n",
       "   'liwc_informal',\n",
       "   'liwc_certainty',\n",
       "   'pos_sentiment',\n",
       "   'first_person_plural_count',\n",
       "   'number_of_diff_dic_pos',\n",
       "   'politeness_gratitude',\n",
       "   'family'],\n",
       "  ['assertive_count',\n",
       "   'factive_count',\n",
       "   'pos_sentiment',\n",
       "   'first_person_plural_count',\n",
       "   'politeness_gratitude']],\n",
       " 'labels': [['personal_concern',\n",
       "   'pos_sentiment',\n",
       "   'number_of_diff_dic_pos',\n",
       "   'first_person_singular_count',\n",
       "   'family'],\n",
       "  ['neg_sentiment',\n",
       "   'third_person_singular',\n",
       "   'pos_sentiment',\n",
       "   'first_person_singular_count',\n",
       "   'hedge_count'],\n",
       "  ['personal_concern',\n",
       "   'neg_sentiment',\n",
       "   'number_of_diff_dic_neg',\n",
       "   'third_person_singular',\n",
       "   'pos_sentiment',\n",
       "   'number_of_diff_dic_pos',\n",
       "   'first_person_singular_count'],\n",
       "  ['factive_count',\n",
       "   'pos_sentiment',\n",
       "   'first_person_plural_count',\n",
       "   'propose',\n",
       "   'first_person_singular_count',\n",
       "   'hedge_count'],\n",
       "  ['personal_concern',\n",
       "   'neg_sentiment',\n",
       "   'assertive_count',\n",
       "   'number_of_diff_dic_neg',\n",
       "   'pos_sentiment',\n",
       "   'propose',\n",
       "   'number_of_diff_dic_pos',\n",
       "   'first_person_singular_count',\n",
       "   'hedge_count'],\n",
       "  ['factive_count',\n",
       "   'third_person_singular',\n",
       "   'pos_sentiment',\n",
       "   'politeness_gratitude',\n",
       "   'first_person_singular_count',\n",
       "   'hedge_count'],\n",
       "  ['personal_concern',\n",
       "   'assertive_count',\n",
       "   'trade_in',\n",
       "   'number_of_diff_dic_neg',\n",
       "   'liwc_informal',\n",
       "   'third_person_singular',\n",
       "   'liwc_certainty',\n",
       "   'pos_sentiment',\n",
       "   'number_of_diff_dic_pos',\n",
       "   'first_person_singular_count'],\n",
       "  ['pos_sentiment', 'politeness_gratitude']],\n",
       " 'attn': array([[[[1.        , 0.        , 0.        , 0.        , 0.        ,\n",
       "           0.        , 0.        , 0.        ],\n",
       "          [0.50928843, 0.49071154, 0.        , 0.        , 0.        ,\n",
       "           0.        , 0.        , 0.        ],\n",
       "          [0.32370698, 0.30569544, 0.37059754, 0.        , 0.        ,\n",
       "           0.        , 0.        , 0.        ],\n",
       "          [0.24129575, 0.23062025, 0.26763147, 0.26045248, 0.        ,\n",
       "           0.        , 0.        , 0.        ],\n",
       "          [0.18893889, 0.18120071, 0.20663604, 0.20190023, 0.22132416,\n",
       "           0.        , 0.        , 0.        ],\n",
       "          [0.15904734, 0.15359512, 0.17029215, 0.16765994, 0.18083273,\n",
       "           0.16857274, 0.        , 0.        ],\n",
       "          [0.13661656, 0.13265796, 0.1450319 , 0.14305173, 0.15270908,\n",
       "           0.14374058, 0.14619218, 0.        ],\n",
       "          [0.12306948, 0.12133937, 0.12567224, 0.12531269, 0.12913144,\n",
       "           0.12634355, 0.12682965, 0.12230158]],\n",
       " \n",
       "         [[1.        , 0.        , 0.        , 0.        , 0.        ,\n",
       "           0.        , 0.        , 0.        ],\n",
       "          [0.47877067, 0.5212294 , 0.        , 0.        , 0.        ,\n",
       "           0.        , 0.        , 0.        ],\n",
       "          [0.31242758, 0.3553009 , 0.33227155, 0.        , 0.        ,\n",
       "           0.        , 0.        , 0.        ],\n",
       "          [0.22802982, 0.25835782, 0.24581678, 0.26779553, 0.        ,\n",
       "           0.        , 0.        , 0.        ],\n",
       "          [0.16940738, 0.19032225, 0.18363647, 0.20367412, 0.2529598 ,\n",
       "           0.        , 0.        , 0.        ],\n",
       "          [0.1302253 , 0.1510013 , 0.14170542, 0.15856296, 0.19237368,\n",
       "           0.22613132, 0.        , 0.        ],\n",
       "          [0.09888802, 0.11380576, 0.10955666, 0.12322114, 0.15612194,\n",
       "           0.18304928, 0.21535721, 0.        ],\n",
       "          [0.09666491, 0.10933062, 0.10593902, 0.11426152, 0.12850875,\n",
       "           0.14169036, 0.15501407, 0.1485908 ]]],\n",
       " \n",
       " \n",
       "        [[[1.        , 0.        , 0.        , 0.        , 0.        ,\n",
       "           0.        , 0.        , 0.        ],\n",
       "          [0.5015436 , 0.49845642, 0.        , 0.        , 0.        ,\n",
       "           0.        , 0.        , 0.        ],\n",
       "          [0.33272368, 0.3287239 , 0.3385524 , 0.        , 0.        ,\n",
       "           0.        , 0.        , 0.        ],\n",
       "          [0.25032032, 0.24765468, 0.2538405 , 0.24818453, 0.        ,\n",
       "           0.        , 0.        , 0.        ],\n",
       "          [0.19927599, 0.19629553, 0.20352718, 0.19693442, 0.2039668 ,\n",
       "           0.        , 0.        , 0.        ],\n",
       "          [0.16632618, 0.16384292, 0.16974965, 0.16435951, 0.17009947,\n",
       "           0.16562223, 0.        , 0.        ],\n",
       "          [0.14226528, 0.14077544, 0.14449827, 0.14111406, 0.14474806,\n",
       "           0.14191072, 0.14468819, 0.        ],\n",
       "          [0.12475165, 0.12379066, 0.12610576, 0.12400125, 0.12625991,\n",
       "           0.12450621, 0.12623063, 0.12435395]],\n",
       " \n",
       "         [[1.        , 0.        , 0.        , 0.        , 0.        ,\n",
       "           0.        , 0.        , 0.        ],\n",
       "          [0.5055711 , 0.49442884, 0.        , 0.        , 0.        ,\n",
       "           0.        , 0.        , 0.        ],\n",
       "          [0.3333281 , 0.33320934, 0.33346257, 0.        , 0.        ,\n",
       "           0.        , 0.        , 0.        ],\n",
       "          [0.2528387 , 0.24508911, 0.25662133, 0.24545084, 0.        ,\n",
       "           0.        , 0.        , 0.        ],\n",
       "          [0.20036194, 0.19829147, 0.20133463, 0.19810425, 0.20190778,\n",
       "           0.        , 0.        , 0.        ],\n",
       "          [0.16745947, 0.16397265, 0.16918683, 0.16392827, 0.16965596,\n",
       "           0.16579689, 0.        , 0.        ],\n",
       "          [0.14202502, 0.14361158, 0.14163351, 0.14344972, 0.14247774,\n",
       "           0.14393678, 0.14286561, 0.        ],\n",
       "          [0.12465014, 0.12439334, 0.125081  , 0.12435365, 0.12575117,\n",
       "           0.12515914, 0.12594035, 0.12467124]]],\n",
       " \n",
       " \n",
       "        [[[1.        , 0.        , 0.        , 0.        , 0.        ,\n",
       "           0.        , 0.        , 0.        ],\n",
       "          [0.49999967, 0.50000036, 0.        , 0.        , 0.        ,\n",
       "           0.        , 0.        , 0.        ],\n",
       "          [0.33333343, 0.33333293, 0.33333364, 0.        , 0.        ,\n",
       "           0.        , 0.        , 0.        ],\n",
       "          [0.25000027, 0.24999966, 0.25000048, 0.24999966, 0.        ,\n",
       "           0.        , 0.        , 0.        ],\n",
       "          [0.20000027, 0.19999924, 0.20000067, 0.19999924, 0.2000006 ,\n",
       "           0.        , 0.        , 0.        ],\n",
       "          [0.16666722, 0.16666567, 0.1666678 , 0.16666566, 0.1666677 ,\n",
       "           0.16666597, 0.        , 0.        ],\n",
       "          [0.14285742, 0.14285634, 0.14285782, 0.14285633, 0.14285775,\n",
       "           0.14285655, 0.1428578 , 0.        ],\n",
       "          [0.12500052, 0.12499889, 0.12500113, 0.12499887, 0.12500101,\n",
       "           0.12499921, 0.1250011 , 0.12499926]],\n",
       " \n",
       "         [[1.        , 0.        , 0.        , 0.        , 0.        ,\n",
       "           0.        , 0.        , 0.        ],\n",
       "          [0.49999088, 0.5000091 , 0.        , 0.        , 0.        ,\n",
       "           0.        , 0.        , 0.        ],\n",
       "          [0.33332735, 0.33356956, 0.3331031 , 0.        , 0.        ,\n",
       "           0.        , 0.        , 0.        ],\n",
       "          [0.24998365, 0.24990322, 0.2501583 , 0.24995483, 0.        ,\n",
       "           0.        , 0.        , 0.        ],\n",
       "          [0.20001422, 0.2000813 , 0.19992638, 0.20005895, 0.19991918,\n",
       "           0.        , 0.        , 0.        ],\n",
       "          [0.16664365, 0.16659096, 0.16675651, 0.16662419, 0.16677102,\n",
       "           0.16661373, 0.        , 0.        ],\n",
       "          [0.14285553, 0.14295547, 0.1427704 , 0.14293866, 0.1427691 ,\n",
       "           0.14293444, 0.14277646, 0.        ],\n",
       "          [0.12495942, 0.12498868, 0.1250106 , 0.12501118, 0.12502602,\n",
       "           0.12499446, 0.12501132, 0.12499832]]],\n",
       " \n",
       " \n",
       "        [[[1.        , 0.        , 0.        , 0.        , 0.        ,\n",
       "           0.        , 0.        , 0.        ],\n",
       "          [0.49836347, 0.50163656, 0.        , 0.        , 0.        ,\n",
       "           0.        , 0.        , 0.        ],\n",
       "          [0.3335186 , 0.33223307, 0.3342483 , 0.        , 0.        ,\n",
       "           0.        , 0.        , 0.        ],\n",
       "          [0.24951811, 0.25100362, 0.24864446, 0.25083384, 0.        ,\n",
       "           0.        , 0.        , 0.        ],\n",
       "          [0.20010869, 0.19944277, 0.20048417, 0.19951095, 0.20045342,\n",
       "           0.        , 0.        , 0.        ],\n",
       "          [0.16648377, 0.16728586, 0.16598345, 0.16718239, 0.16601455,\n",
       "           0.16705   , 0.        , 0.        ],\n",
       "          [0.14293547, 0.14238033, 0.14324236, 0.14243458, 0.14321598,\n",
       "           0.14252992, 0.14326137, 0.        ],\n",
       "          [0.12491105, 0.1254788 , 0.124549  , 0.12540238, 0.12457021,\n",
       "           0.12530921, 0.12452175, 0.12525766]],\n",
       " \n",
       "         [[1.        , 0.        , 0.        , 0.        , 0.        ,\n",
       "           0.        , 0.        , 0.        ],\n",
       "          [0.5000346 , 0.49996543, 0.        , 0.        , 0.        ,\n",
       "           0.        , 0.        , 0.        ],\n",
       "          [0.33332855, 0.33335176, 0.33331966, 0.        , 0.        ,\n",
       "           0.        , 0.        , 0.        ],\n",
       "          [0.25001284, 0.24998087, 0.25002503, 0.24998131, 0.        ,\n",
       "           0.        , 0.        , 0.        ],\n",
       "          [0.19999674, 0.20000935, 0.19999191, 0.20000915, 0.19999282,\n",
       "           0.        , 0.        , 0.        ],\n",
       "          [0.16667278, 0.16665544, 0.16667938, 0.16665569, 0.16667813,\n",
       "           0.16665854, 0.        , 0.        ],\n",
       "          [0.14285465, 0.14286466, 0.14285082, 0.14286451, 0.14285153,\n",
       "           0.14286286, 0.14285097, 0.        ],\n",
       "          [0.12500407, 0.12499119, 0.12500897, 0.12499137, 0.12500805,\n",
       "           0.1249935 , 0.12500878, 0.12499411]]],\n",
       " \n",
       " \n",
       "        [[[1.        , 0.        , 0.        , 0.        , 0.        ,\n",
       "           0.        , 0.        , 0.        ],\n",
       "          [0.5000004 , 0.49999955, 0.        , 0.        , 0.        ,\n",
       "           0.        , 0.        , 0.        ],\n",
       "          [0.33333313, 0.33333334, 0.3333335 , 0.        , 0.        ,\n",
       "           0.        , 0.        , 0.        ],\n",
       "          [0.25000036, 0.25000006, 0.2499998 , 0.2499998 , 0.        ,\n",
       "           0.        , 0.        , 0.        ],\n",
       "          [0.19999985, 0.19999996, 0.20000005, 0.20000003, 0.20000009,\n",
       "           0.        , 0.        , 0.        ],\n",
       "          [0.16666692, 0.16666672, 0.16666657, 0.16666655, 0.1666665 ,\n",
       "           0.1666667 , 0.        , 0.        ],\n",
       "          [0.14285704, 0.1428571 , 0.14285718, 0.14285716, 0.1428572 ,\n",
       "           0.14285712, 0.1428572 , 0.        ],\n",
       "          [0.12500022, 0.12500004, 0.12499993, 0.12499992, 0.12499987,\n",
       "           0.12500003, 0.12499992, 0.12500004]],\n",
       " \n",
       "         [[1.        , 0.        , 0.        , 0.        , 0.        ,\n",
       "           0.        , 0.        , 0.        ],\n",
       "          [0.50014883, 0.49985123, 0.        , 0.        , 0.        ,\n",
       "           0.        , 0.        , 0.        ],\n",
       "          [0.33332342, 0.33338487, 0.33329174, 0.        , 0.        ,\n",
       "           0.        , 0.        , 0.        ],\n",
       "          [0.25004926, 0.24991003, 0.25012088, 0.24991985, 0.        ,\n",
       "           0.        , 0.        , 0.        ],\n",
       "          [0.19998834, 0.20005146, 0.19995587, 0.200047  , 0.19995733,\n",
       "           0.        , 0.        , 0.        ],\n",
       "          [0.16668402, 0.16662276, 0.16671558, 0.1666271 , 0.16671413,\n",
       "           0.16663645, 0.        , 0.        ],\n",
       "          [0.14285314, 0.14287682, 0.14284092, 0.14287513, 0.14284147,\n",
       "           0.14287153, 0.142841  , 0.        ],\n",
       "          [0.1250127 , 0.12495974, 0.12503995, 0.12496348, 0.12503871,\n",
       "           0.12497158, 0.12503979, 0.12497409]]],\n",
       " \n",
       " \n",
       "        [[[1.        , 0.        , 0.        , 0.        , 0.        ,\n",
       "           0.        , 0.        , 0.        ],\n",
       "          [0.5       , 0.5       , 0.        , 0.        , 0.        ,\n",
       "           0.        , 0.        , 0.        ],\n",
       "          [0.33333334, 0.33333334, 0.33333334, 0.        , 0.        ,\n",
       "           0.        , 0.        , 0.        ],\n",
       "          [0.25      , 0.25      , 0.25      , 0.25      , 0.        ,\n",
       "           0.        , 0.        , 0.        ],\n",
       "          [0.2       , 0.2       , 0.2       , 0.2       , 0.2       ,\n",
       "           0.        , 0.        , 0.        ],\n",
       "          [0.16666667, 0.16666667, 0.16666667, 0.16666667, 0.16666667,\n",
       "           0.16666667, 0.        , 0.        ],\n",
       "          [0.14285715, 0.14285715, 0.14285715, 0.14285715, 0.14285715,\n",
       "           0.14285715, 0.14285715, 0.        ],\n",
       "          [0.125     , 0.125     , 0.125     , 0.125     , 0.125     ,\n",
       "           0.125     , 0.125     , 0.125     ]],\n",
       " \n",
       "         [[1.        , 0.        , 0.        , 0.        , 0.        ,\n",
       "           0.        , 0.        , 0.        ],\n",
       "          [0.5       , 0.5       , 0.        , 0.        , 0.        ,\n",
       "           0.        , 0.        , 0.        ],\n",
       "          [0.33333334, 0.33333334, 0.33333334, 0.        , 0.        ,\n",
       "           0.        , 0.        , 0.        ],\n",
       "          [0.25      , 0.25      , 0.25      , 0.25      , 0.        ,\n",
       "           0.        , 0.        , 0.        ],\n",
       "          [0.2       , 0.2       , 0.2       , 0.2       , 0.2       ,\n",
       "           0.        , 0.        , 0.        ],\n",
       "          [0.16666667, 0.16666667, 0.16666667, 0.16666667, 0.16666667,\n",
       "           0.16666667, 0.        , 0.        ],\n",
       "          [0.14285715, 0.14285715, 0.14285715, 0.14285715, 0.14285715,\n",
       "           0.14285715, 0.14285715, 0.        ],\n",
       "          [0.125     , 0.125     , 0.125     , 0.125     , 0.125     ,\n",
       "           0.125     , 0.125     , 0.125     ]]]], dtype=float32),\n",
       " 'score': 0.5141774891774893}"
      ]
     },
     "execution_count": 116,
     "metadata": {},
     "output_type": "execute_result"
    }
   ],
   "source": [
    "final_conv[0]"
   ]
  },
  {
   "cell_type": "code",
   "execution_count": 117,
   "metadata": {},
   "outputs": [
    {
     "data": {
      "text/plain": [
       "<matplotlib.image.AxesImage at 0x7f6da648d650>"
      ]
     },
     "execution_count": 117,
     "metadata": {},
     "output_type": "execute_result"
    },
    {
     "data": {
      "image/png": "[encoded data removed]",
      "text/plain": [
       "<Figure size 1152x144 with 1 Axes>"
      ]
     },
     "metadata": {
      "needs_background": "light"
     },
     "output_type": "display_data"
    }
   ],
   "source": [
    "plt.matshow(final_conv[0]['attn'][0][0][4:5][:])"
   ]
  },
  {
   "cell_type": "code",
   "execution_count": 78,
   "metadata": {},
   "outputs": [
    {
     "data": {
      "text/plain": [
       "<matplotlib.image.AxesImage at 0x7f6da69b6490>"
      ]
     },
     "execution_count": 78,
     "metadata": {},
     "output_type": "execute_result"
    },
    {
     "data": {
      "image/png": "[encoded data removed]",
      "text/plain": [
       "<Figure size 288x288 with 1 Axes>"
      ]
     },
     "metadata": {
      "needs_background": "light"
     },
     "output_type": "display_data"
    }
   ],
   "source": [
    "plt.matshow(final_conv[0]['attn'][0][0])"
   ]
  },
  {
   "cell_type": "code",
   "execution_count": 77,
   "metadata": {},
   "outputs": [],
   "source": [
    "def showAttention(input_sentence, output_words, attentions):\n",
    "    # Set up figure with colorbar\n",
    "    fig = plt.figure()\n",
    "    ax = fig.add_subplot(111)\n",
    "    cax = ax.matshow(attentions.numpy(), cmap='bone')\n",
    "    fig.colorbar(cax)\n",
    "\n",
    "    # Set up axes\n",
    "    ax.set_xticklabels([''] + input_sentence.split(' ') +\n",
    "                       ['<EOS>'], rotation=90)\n",
    "    ax.set_yticklabels([''] + output_words)\n",
    "\n",
    "    # Show label at every tick\n",
    "    ax.xaxis.set_major_locator(ticker.MultipleLocator(1))\n",
    "    ax.yaxis.set_major_locator(ticker.MultipleLocator(1))\n",
    "\n",
    "    plt.show()"
   ]
  },
  {
   "cell_type": "code",
   "execution_count": 112,
   "metadata": {},
   "outputs": [],
   "source": [
    "def plot_heatmap(src, trg, scores, rowwise = False):\n",
    "\n",
    "    fig, ax = plt.subplots()\n",
    "    scores2 = scores.copy()\n",
    "    if rowwise:\n",
    "        for i in range(len(scores2)):\n",
    "            #scores2[i, :] *= (i+1)\n",
    "            scores2[i, :] /= np.max(scores2[i, :])\n",
    "    heatmap = ax.pcolor(scores2, cmap='viridis')\n",
    "\n",
    "    ax.set_xticklabels(trg, minor=False, rotation='vertical')\n",
    "    ax.set_yticklabels(src, minor=False)\n",
    "\n",
    "    # put the major ticks at the middle of each cell\n",
    "    # and the x-ticks on top\n",
    "    ax.xaxis.tick_top()\n",
    "    ax.set_xticks(np.arange(scores.shape[1]) + 0.5, minor=False)\n",
    "    ax.set_yticks(np.arange(scores.shape[0]) + 0.5, minor=False)\n",
    "    ax.invert_yaxis()\n",
    "\n",
    "    plt.colorbar(heatmap)\n",
    "    plt.show()"
   ]
  },
  {
   "cell_type": "code",
   "execution_count": 118,
   "metadata": {},
   "outputs": [
    {
     "data": {
      "image/png": "[encoded data removed]",
      "text/plain": [
       "<Figure size 432x288 with 2 Axes>"
      ]
     },
     "metadata": {
      "needs_background": "light"
     },
     "output_type": "display_data"
    }
   ],
   "source": [
    "src = ['a', 'b', 'c', 'd', 'e', 'f', 'g', 'h']\n",
    "trg = src\n",
    "scores = final_conv[0]['attn'][0][0]\n",
    "plot_heatmap(src, trg, scores, rowwise=True)"
   ]
  },
  {
   "cell_type": "markdown",
   "metadata": {},
   "source": [
    "## Only layer 1/2 of decoder have useful information. Layer 1 is overall and layer 2 seems too have user info."
   ]
  },
  {
   "cell_type": "code",
   "execution_count": 114,
   "metadata": {},
   "outputs": [
    {
     "data": {
      "image/png": "[encoded data removed]",
      "text/plain": [
       "<Figure size 432x288 with 2 Axes>"
      ]
     },
     "metadata": {
      "needs_background": "light"
     },
     "output_type": "display_data"
    },
    {
     "data": {
      "image/png": "[encoded data removed]",
      "text/plain": [
       "<Figure size 432x288 with 2 Axes>"
      ]
     },
     "metadata": {
      "needs_background": "light"
     },
     "output_type": "display_data"
    },
    {
     "data": {
      "image/png": "[encoded data removed]",
      "text/plain": [
       "<Figure size 432x288 with 2 Axes>"
      ]
     },
     "metadata": {
      "needs_background": "light"
     },
     "output_type": "display_data"
    },
    {
     "data": {
      "image/png": "[encoded data removed]",
      "text/plain": [
       "<Figure size 432x288 with 2 Axes>"
      ]
     },
     "metadata": {
      "needs_background": "light"
     },
     "output_type": "display_data"
    },
    {
     "data": {
      "image/png": "[encoded data removed]",
      "text/plain": [
       "<Figure size 432x288 with 2 Axes>"
      ]
     },
     "metadata": {
      "needs_background": "light"
     },
     "output_type": "display_data"
    },
    {
     "data": {
      "image/png": "[encoded data removed]",
      "text/plain": [
       "<Figure size 432x288 with 2 Axes>"
      ]
     },
     "metadata": {
      "needs_background": "light"
     },
     "output_type": "display_data"
    },
    {
     "data": {
      "image/png": "[encoded data removed]",
      "text/plain": [
       "<Figure size 432x288 with 2 Axes>"
      ]
     },
     "metadata": {
      "needs_background": "light"
     },
     "output_type": "display_data"
    },
    {
     "data": {
      "image/png": "[encoded data removed]",
      "text/plain": [
       "<Figure size 432x288 with 2 Axes>"
      ]
     },
     "metadata": {
      "needs_background": "light"
     },
     "output_type": "display_data"
    },
    {
     "data": {
      "image/png": "[encoded data removed]",
      "text/plain": [
       "<Figure size 432x288 with 2 Axes>"
      ]
     },
     "metadata": {
      "needs_background": "light"
     },
     "output_type": "display_data"
    },
    {
     "data": {
      "image/png": "[encoded data removed]",
      "text/plain": [
       "<Figure size 432x288 with 2 Axes>"
      ]
     },
     "metadata": {
      "needs_background": "light"
     },
     "output_type": "display_data"
    },
    {
     "data": {
      "image/png": "[encoded data removed]",
      "text/plain": [
       "<Figure size 432x288 with 2 Axes>"
      ]
     },
     "metadata": {
      "needs_background": "light"
     },
     "output_type": "display_data"
    },
    {
     "data": {
      "image/png": "[encoded data removed]",
      "text/plain": [
       "<Figure size 432x288 with 2 Axes>"
      ]
     },
     "metadata": {
      "needs_background": "light"
     },
     "output_type": "display_data"
    }
   ],
   "source": [
    "for layer in range(6):\n",
    "    for head in range(2):\n",
    "        plot_heatmap(src, trg, final_conv[0]['attn'][layer][head], True)"
   ]
  },
  {
   "cell_type": "code",
   "execution_count": null,
   "metadata": {},
   "outputs": [],
   "source": []
  }
 ],
 "metadata": {
  "kernelspec": {
   "display_name": "Python 3",
   "language": "python",
   "name": "python3"
  },
  "language_info": {
   "codemirror_mode": {
    "name": "ipython",
    "version": 3
   },
   "file_extension": ".py",
   "mimetype": "text/x-python",
   "name": "python",
   "nbconvert_exporter": "python",
   "pygments_lexer": "ipython3",
   "version": "3.7.4"
  }
 },
 "nbformat": 4,
 "nbformat_minor": 4
}
